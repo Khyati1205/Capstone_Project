{
 "cells": [
  {
   "cell_type": "markdown",
   "id": "c19b01c4",
   "metadata": {},
   "source": [
    "Phase 1 "
   ]
  },
  {
   "cell_type": "markdown",
   "id": "00799390",
   "metadata": {},
   "source": [
    "The below mentioned links have been used for collection of the data.\n",
    "-URL : https://www.studyiq.com/articles/largest-state-of-india/\n",
    "\n",
    "https://en.wikipedia.org/wiki/List_of_Indian_states_and_union_territories_by_literacy_rate\n",
    "Literacy rate of the state/UT\n",
    "Area of the states/UT\n",
    "Population of the states/UT"
   ]
  },
  {
   "cell_type": "code",
   "execution_count": null,
   "id": "d6490d2c",
   "metadata": {},
   "outputs": [],
   "source": [
    "# to path that will direct to the stored data. \n",
    "file_path = r\"C:\\Users\\Country Head\\Desktop\\data collected.xlsx\"\n",
    "file_path2 = r\"C:\\Users\\Country Head\\Desktop\\Analysis 2.xlsx\"\n",
    "data = pd.read_excel(r\"C:\\Users\\Country Head\\Desktop\\data collected.xlsx\")\n",
    "data_new = pd.read_excel(r\"C:\\Users\\Country Head\\Desktop\\analysis 4.xlsx\")"
   ]
  }
 ],
 "metadata": {
  "kernelspec": {
   "display_name": "Python 3 (ipykernel)",
   "language": "python",
   "name": "python3"
  },
  "language_info": {
   "codemirror_mode": {
    "name": "ipython",
    "version": 3
   },
   "file_extension": ".py",
   "mimetype": "text/x-python",
   "name": "python",
   "nbconvert_exporter": "python",
   "pygments_lexer": "ipython3",
   "version": "3.9.12"
  }
 },
 "nbformat": 4,
 "nbformat_minor": 5
}
